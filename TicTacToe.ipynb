{
 "cells": [
  {
   "cell_type": "code",
   "execution_count": 73,
   "id": "e32aec79",
   "metadata": {},
   "outputs": [],
   "source": [
    "board = [\"1\",\"2\",\"3\",\n",
    "         \"4\",\"5\",\"6\",\n",
    "         \"7\",\"8\",\"9\"]"
   ]
  },
  {
   "cell_type": "code",
   "execution_count": 74,
   "id": "cc765c0f",
   "metadata": {
    "scrolled": true
   },
   "outputs": [],
   "source": [
    "currentPlayer = \"X\""
   ]
  },
  {
   "cell_type": "code",
   "execution_count": 75,
   "id": "a147bc1d",
   "metadata": {},
   "outputs": [],
   "source": [
    "winner = None"
   ]
  },
  {
   "cell_type": "code",
   "execution_count": 76,
   "id": "b6e450b2",
   "metadata": {},
   "outputs": [],
   "source": [
    "gameRunning = True"
   ]
  },
  {
   "cell_type": "code",
   "execution_count": 77,
   "id": "1b9b8030",
   "metadata": {},
   "outputs": [],
   "source": [
    "# printing the game board\n",
    "def printBoard(board):\n",
    "    print(f\"Game Board \\n{board[0]}   {board[1]}   {board[2]}\")\n",
    "    print(f\"{board[3]}   {board[4]}   {board[5]}\")\n",
    "    print(f\"{board[6]}   {board[7]}   {board[8]}\")\n",
    "    "
   ]
  },
  {
   "cell_type": "code",
   "execution_count": 78,
   "id": "558122c8",
   "metadata": {},
   "outputs": [],
   "source": [
    " numLst = [\"1\",\"2\",\"3\",\"4\",\"5\",\"6\",\"7\",\"8\",\"9\"]"
   ]
  },
  {
   "cell_type": "code",
   "execution_count": 79,
   "id": "74f95239",
   "metadata": {},
   "outputs": [],
   "source": [
    "# define pkayer input\n",
    "def playerInput(board):\n",
    "    inp = input(\"please choose a number of spot to play....\")\n",
    "    while True:\n",
    "        if inp in numLst and board[int(inp) -1] in numLst :\n",
    "            board[int(inp) -1] = currentPlayer\n",
    "            break\n",
    "\n",
    "        else :    \n",
    "            inp = input(\"wrong input, please choose a number of spot to play....\")\n",
    "            \n",
    "        "
   ]
  },
  {
   "cell_type": "code",
   "execution_count": 80,
   "id": "ddec86b1",
   "metadata": {},
   "outputs": [],
   "source": [
    "# define check win or tie\n",
    "def checkHorizonatle(board):\n",
    "    global winner\n",
    "    if board[0] == board[1] == board[2] and board[0] not in numLst:\n",
    "        return True\n",
    "    elif board[3] == board[4] == board[5] and board[3] not in numLst:\n",
    "        return True\n",
    "    elif board[6] == board[7] == board[8] and board[6] not in numLst:\n",
    "        return True\n",
    "def checkVirticale(board):\n",
    "    global winner\n",
    "    if board[0] == board[3] == board[6] and board[0] not in numLst:\n",
    "        return True\n",
    "    elif board[1] == board[4] == board[7] and board[1] not in numLst:\n",
    "        return True\n",
    "    elif board[2] == board[5] == board[8] and board[2] not in numLst:\n",
    "        return True\n",
    "def checkDiagonal(board):\n",
    "    global winner\n",
    "    if board[0] == board[4] == board[8] and board[0] not in numLst:\n",
    "        return True\n",
    "    elif board[2] == board[4] == board[6] and board[2] not in numLst:\n",
    "        return True\n",
    "def checkTie(board):\n",
    "    global gameRunning\n",
    "    if board[0] and board[1] and board[2]and board[3]and board[4]and board[5]and board[6]and board[7]and board[8] not in numLst :\n",
    "        printBoard(board)\n",
    "        print(\"the game is tie\")\n",
    "        gameRunning = False\n"
   ]
  },
  {
   "cell_type": "code",
   "execution_count": 81,
   "id": "8d013119",
   "metadata": {},
   "outputs": [],
   "source": [
    "def checkWin(board):\n",
    "    global gameRunning\n",
    "    if checkHorizonatle(board) or checkVirticale(board) or checkDiagonal(board) :\n",
    "        printBoard(board)\n",
    "        winner = currentPlayer\n",
    "        print (f\"congratulations, the winner is {winner}\")\n",
    "        gameRunning = False\n",
    "        "
   ]
  },
  {
   "cell_type": "code",
   "execution_count": 82,
   "id": "eec94dc9",
   "metadata": {},
   "outputs": [],
   "source": [
    "def switchPlayer(board):\n",
    "    global currentPlayer\n",
    "    if currentPlayer == \"X\":\n",
    "        currentPlayer = \"O\"\n",
    "    else :\n",
    "        currentPlayer = \"X\"\n",
    "    "
   ]
  },
  {
   "cell_type": "code",
   "execution_count": 83,
   "id": "55b3e69f",
   "metadata": {},
   "outputs": [
    {
     "name": "stdout",
     "output_type": "stream",
     "text": [
      "Game Board \n",
      "1   2   3\n",
      "4   5   6\n",
      "7   8   9\n",
      "please choose a number of spot to play....sadsadsad\n",
      "wrong input, please choose a number of spot to play....sadasfas\n",
      "wrong input, please choose a number of spot to play....sdsafasf\n",
      "wrong input, please choose a number of spot to play....21312312\n",
      "wrong input, please choose a number of spot to play....2\n",
      "Game Board \n",
      "1   X   3\n",
      "4   5   6\n",
      "7   8   9\n",
      "please choose a number of spot to play....2\n",
      "wrong input, please choose a number of spot to play....3221\n",
      "wrong input, please choose a number of spot to play....2\n",
      "wrong input, please choose a number of spot to play....2\n",
      "wrong input, please choose a number of spot to play....2\n",
      "wrong input, please choose a number of spot to play....2\n",
      "wrong input, please choose a number of spot to play....23\n",
      "wrong input, please choose a number of spot to play....3\n",
      "Game Board \n",
      "1   X   O\n",
      "4   5   6\n",
      "7   8   9\n",
      "please choose a number of spot to play....4\n",
      "Game Board \n",
      "1   X   O\n",
      "X   5   6\n",
      "7   8   9\n",
      "please choose a number of spot to play....5\n",
      "Game Board \n",
      "1   X   O\n",
      "X   O   6\n",
      "7   8   9\n",
      "please choose a number of spot to play....6\n",
      "Game Board \n",
      "1   X   O\n",
      "X   O   X\n",
      "7   8   9\n",
      "please choose a number of spot to play....7\n",
      "Game Board \n",
      "1   X   O\n",
      "X   O   X\n",
      "O   8   9\n",
      "congratulations, the winner is O\n"
     ]
    }
   ],
   "source": [
    "# while loop to run the game\n",
    "while gameRunning:\n",
    "    printBoard(board)\n",
    "    playerInput(board)\n",
    "    checkWin(board)\n",
    "    checkTie(board)\n",
    "    switchPlayer(board)"
   ]
  },
  {
   "cell_type": "code",
   "execution_count": null,
   "id": "271a9223",
   "metadata": {},
   "outputs": [],
   "source": []
  },
  {
   "cell_type": "code",
   "execution_count": null,
   "id": "d9bac7c7",
   "metadata": {},
   "outputs": [],
   "source": []
  },
  {
   "cell_type": "code",
   "execution_count": null,
   "id": "5e878327",
   "metadata": {},
   "outputs": [],
   "source": []
  }
 ],
 "metadata": {
  "kernelspec": {
   "display_name": "Python 3 (ipykernel)",
   "language": "python",
   "name": "python3"
  },
  "language_info": {
   "codemirror_mode": {
    "name": "ipython",
    "version": 3
   },
   "file_extension": ".py",
   "mimetype": "text/x-python",
   "name": "python",
   "nbconvert_exporter": "python",
   "pygments_lexer": "ipython3",
   "version": "3.11.3"
  }
 },
 "nbformat": 4,
 "nbformat_minor": 5
}
